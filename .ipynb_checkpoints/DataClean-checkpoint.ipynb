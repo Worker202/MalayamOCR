{
 "cells": [
  {
   "cell_type": "code",
   "execution_count": 11,
   "metadata": {},
   "outputs": [],
   "source": [
    "import os\n",
    "import unicodedata\n",
    "import time\n",
    "import sys\n",
    "from PIL import Image\n",
    "import psutil"
   ]
  },
  {
   "cell_type": "code",
   "execution_count": 12,
   "metadata": {},
   "outputs": [],
   "source": [
    "Datasets=\"Datasets\"\n",
    "files=os.listdir(Datasets)"
   ]
  },
  {
   "cell_type": "code",
   "execution_count": 19,
   "metadata": {},
   "outputs": [
    {
     "name": "stdout",
     "output_type": "stream",
     "text": [
      "['മ്പ', 'ബ്ബ', 'ഛ', '-', 'ഏ', 'ഥ', 'ഗ്മ', 'മ്ല', 'സ', 'പ്പ', 'ത്സ', '3', 'ജ', 'േ', 'ഇ', 'ർ', 'ഞ്ഞ', 'ണ്മ', 'ല', 'ീ', 'ഭ', 'ൺ', 'ഝ', 'ദ്ധ', '8', '2', '1', 'ന്റ', 'ത്ഭ', 'ഹ്ന', 'ച', 'ന', 'ച്ഛ', 'ള്ള', '0', 'ൃ', 'ള', 'ന്മ', 'ൾ', 'ൾ2', 'ാ', 'ബ', 'ട്ട', \"'2\", 'ശ്ച', 'ത്ഥ', 'ക്ഷ', \"item_''\", 'ന്ത', 'ഞ്ച', '(', \"'\", '5', 'ന്ഥ', 'റ്റ', 'ഠ', 'ഗ', 'ഢ', 'ഗ്ഗ', 'ക്ത', 'ൂ', 'ച്ച', 'ആ', 'മ്മ', 'ഷ', ')', 'ട', 'ര', 'വ്വ', 'ഘ', 'ൗ', '6', 'ങ്ക', 'ഡ', 'ദ്ദ', 'ഗ്ന', '്യ', 'െ', '്വ', 'ന്ധ', 'മ', 'യ്യ', 'ഗ്ല', 'പ', '9', '്ര', 'ണ', 'ഋ', 'ഹ', 'ന്ന', 'ൽ', 'ങ്ങ', 'എ', 'റ', 'റ്റ2', 'ത്മ', '7', '4', 'സ്ഥ', 'ത', 'ല്ല', 'യ', 'ഹ്മ', 'ൻ', '്', 'ഖ', 'ഴ', 'ശ', 'ി', 'ത്ത', 'ഉ', 'ത്ന', 'ു', 'ന്ദ', 'item_dot', 'ണ്ണ', 'ണ്ഡ', 'ഒ', 'ക', 'വ', 'ധ', 'അ', 'item_ques', 'ഞ', '+', 'ണ്ട', 'ദ', 'ക്ക', 'ജ്ഞ', 'ജ്ജ', 'ഫ', 'item_,', 'ങ']\n",
      "Datasets/മ്പ/zsamp19_1973.png\n",
      "Datasets/മ്പ/zsamp11_1720.png\n",
      "Datasets/മ്പ/zsamp13_1586.png\n",
      "Datasets/മ്പ/zsamp1_23.02055.png\n",
      "Datasets/മ്പ/zsamp0_+str(t)522.png\n",
      "Datasets/മ്പ/zsamp29_56_4653.png\n",
      "Datasets/മ്പ/zsamp9_790.png\n",
      "Datasets/മ്പ/zsamp13_1480.png\n",
      "Datasets/മ്പ/zsamp26_72.0_3475.png\n",
      "Datasets/മ്പ/zsamp45_70_1173.png\n",
      "Datasets/മ്പ/zsamp28_56_4215.png\n",
      "Datasets/മ്പ/zsamp28_56_4402.png\n",
      "Datasets/മ്പ/zsamp18_1929.png\n",
      "Datasets/മ്പ/zsamp26_72.0_3541.png\n",
      "Datasets/മ്പ/zsamp26_72.0_3461.png\n",
      "Datasets/മ്പ/zsamp4_23.02459.png\n",
      "Datasets/മ്പ/zsamp26_72.0_3484.png\n",
      "Datasets/മ്പ/zsamp12_1672.png\n",
      "Datasets/മ്പ/zsamp1_43.01845.png\n",
      "Datasets/മ്പ/zsamp2_951.png\n",
      "Datasets/മ്പ/zsamp11_1606.png\n",
      "Datasets/മ്പ/zsamp29_56_4991.png\n",
      "Datasets/മ്പ/zsamp38_57_653.png\n",
      "Datasets/മ്പ/zsamp5_3850.png\n",
      "Datasets/മ്പ/zsamp38_57_615.png\n",
      "Datasets/മ്പ/zsamp30_56_2781.png\n",
      "Datasets/മ്പ/zsamp45_70_1183.png\n",
      "Datasets/മ്പ/zsamp26_72.0_3474.png\n",
      "Datasets/മ്പ/zsamp45_70_1276.png\n",
      "Datasets/മ്പ/zsamp4_23.02591.png\n",
      "Datasets/മ്പ/zsamp10_1946.png\n",
      "Datasets/മ്പ/zsamp9_881.png\n",
      "Datasets/മ്പ/zsamp26_56.0_3725.png\n",
      "Datasets/മ്പ/zsamp18_1799.png\n",
      "Datasets/മ്പ/zsamp15_1824.png\n",
      "Datasets/മ്പ/zsamp13_1536.png\n",
      "Datasets/മ്പ/zsamp21_23.01329.png\n",
      "Datasets/മ്പ/zsamp13_1410.png\n",
      "Datasets/മ്പ/zsamp17_1977.png\n",
      "Datasets/മ്പ/zsamp45_70_1148.png\n",
      "Datasets/മ്പ/zsamp45_70_1171.png\n",
      "Datasets/മ്പ/zsamp9_756.png\n",
      "Datasets/മ്പ/zsamp13_1509.png\n",
      "Datasets/മ്പ/zsamp38_57_628.png\n",
      "Datasets/മ്പ/zsamp0_+str(t)432.png\n",
      "Datasets/മ്പ/zsamp26_56.0_3413.png\n",
      "Datasets/മ്പ/zsamp15_1758.png\n",
      "Datasets/മ്പ/zsamp29_56_4919.png\n",
      "Datasets/മ്പ/zsamp29_56_4401.png\n",
      "Datasets/മ്പ/zsamp26_56.0_3367.png\n",
      "Datasets/മ്പ/zsamp45_70_1161.png\n",
      "Datasets/മ്പ/zsamp23_23.01850.png\n",
      "Datasets/മ്പ/zsamp14_1995.png\n",
      "Datasets/മ്പ/zsamp15_1790.png\n",
      "Datasets/മ്പ/zsamp28_56_4224.png\n",
      "Datasets/മ്പ/zsamp4_23.02768.png\n",
      "Datasets/മ്പ/zsamp16_2268.png\n",
      "Datasets/മ്പ/zsamp15_2154.png\n",
      "Datasets/മ്പ/zsamp19_2333.png\n",
      "Datasets/മ്പ/zsamp1_23.02099.png\n",
      "Datasets/മ്പ/zsamp17_2066.png\n",
      "Datasets/മ്പ/zsamp2_969.png\n",
      "Datasets/മ്പ/zsamp29_56_4744.png\n",
      "Datasets/മ്പ/zsamp11_1659.png\n",
      "Datasets/മ്പ/zsamp24_42.01700.png\n",
      "Datasets/മ്പ/zsamp29_56_4251.png\n",
      "Datasets/മ്പ/zsamp26_56.0_3735.png\n",
      "Datasets/മ്പ/zsamp17_2061.png\n",
      "Datasets/മ്പ/zsamp31_72_2275.png\n",
      "Datasets/മ്പ/zsamp38_57_632.png\n",
      "Datasets/മ്പ/zsamp18_1820.png\n",
      "Datasets/മ്പ/zsamp38_57_622.png\n",
      "Datasets/മ്പ/zsamp5_3888.png\n",
      "Datasets/മ്പ/zsamp30_56_3121.png\n",
      "Datasets/മ്പ/zsamp26_56.0_3397.png\n",
      "Datasets/മ്പ/zsamp11_1755.png\n",
      "Datasets/മ്പ/zsamp10_2100.png\n",
      "Datasets/മ്പ/zsamp38_70_638.png\n",
      "Datasets/മ്പ/zsamp27_56_1688.png\n",
      "Datasets/മ്പ/zsamp19_2265.png\n",
      "Datasets/മ്പ/zsamp26_72.0_3556.png\n",
      "Datasets/മ്പ/zsamp4_23.02613.png\n",
      "Datasets/മ്പ/zsamp18_1777.png\n",
      "Datasets/മ്പ/zsamp6_1259.png\n",
      "Datasets/മ്പ/zsamp14_2003.png\n",
      "Datasets/മ്പ/zsamp0_+str(t)433.png\n",
      "Datasets/മ്പ/utf8\n"
     ]
    },
    {
     "ename": "OSError",
     "evalue": "cannot identify image file 'Datasets/മ്പ/utf8'",
     "output_type": "error",
     "traceback": [
      "\u001b[0;31m---------------------------------------------------------------------------\u001b[0m",
      "\u001b[0;31mOSError\u001b[0m                                   Traceback (most recent call last)",
      "\u001b[0;32m<ipython-input-19-e8520eecc785>\u001b[0m in \u001b[0;36m<module>\u001b[0;34m()\u001b[0m\n\u001b[1;32m      4\u001b[0m     \u001b[0;32mfor\u001b[0m \u001b[0mimage\u001b[0m \u001b[0;32min\u001b[0m \u001b[0mfile\u001b[0m\u001b[0;34m:\u001b[0m\u001b[0;34m\u001b[0m\u001b[0m\n\u001b[1;32m      5\u001b[0m         \u001b[0mprint\u001b[0m\u001b[0;34m(\u001b[0m\u001b[0mDatasets\u001b[0m\u001b[0;34m+\u001b[0m\u001b[0;34m\"/\"\u001b[0m\u001b[0;34m+\u001b[0m\u001b[0mitem\u001b[0m\u001b[0;34m+\u001b[0m\u001b[0;34m\"/\"\u001b[0m\u001b[0;34m+\u001b[0m\u001b[0mimage\u001b[0m\u001b[0;34m)\u001b[0m\u001b[0;34m\u001b[0m\u001b[0m\n\u001b[0;32m----> 6\u001b[0;31m         \u001b[0mimg\u001b[0m \u001b[0;34m=\u001b[0m \u001b[0mImage\u001b[0m\u001b[0;34m.\u001b[0m\u001b[0mopen\u001b[0m\u001b[0;34m(\u001b[0m\u001b[0mDatasets\u001b[0m\u001b[0;34m+\u001b[0m\u001b[0;34m\"/\"\u001b[0m\u001b[0;34m+\u001b[0m\u001b[0mitem\u001b[0m\u001b[0;34m+\u001b[0m\u001b[0;34m\"/\"\u001b[0m\u001b[0;34m+\u001b[0m\u001b[0mimage\u001b[0m\u001b[0;34m)\u001b[0m\u001b[0;34m\u001b[0m\u001b[0m\n\u001b[0m\u001b[1;32m      7\u001b[0m         \u001b[0mimg\u001b[0m\u001b[0;34m.\u001b[0m\u001b[0mshow\u001b[0m\u001b[0;34m(\u001b[0m\u001b[0;34m)\u001b[0m\u001b[0;34m\u001b[0m\u001b[0m\n\u001b[1;32m      8\u001b[0m         \u001b[0mtime\u001b[0m\u001b[0;34m.\u001b[0m\u001b[0msleep\u001b[0m\u001b[0;34m(\u001b[0m\u001b[0;36m0.3\u001b[0m\u001b[0;34m)\u001b[0m\u001b[0;34m\u001b[0m\u001b[0m\n",
      "\u001b[0;32m~/.local/lib/python3.6/site-packages/PIL/Image.py\u001b[0m in \u001b[0;36mopen\u001b[0;34m(fp, mode)\u001b[0m\n\u001b[1;32m   2620\u001b[0m         \u001b[0mfp\u001b[0m\u001b[0;34m.\u001b[0m\u001b[0mclose\u001b[0m\u001b[0;34m(\u001b[0m\u001b[0;34m)\u001b[0m\u001b[0;34m\u001b[0m\u001b[0m\n\u001b[1;32m   2621\u001b[0m     raise IOError(\"cannot identify image file %r\"\n\u001b[0;32m-> 2622\u001b[0;31m                   % (filename if filename else fp))\n\u001b[0m\u001b[1;32m   2623\u001b[0m \u001b[0;34m\u001b[0m\u001b[0m\n\u001b[1;32m   2624\u001b[0m \u001b[0;31m#\u001b[0m\u001b[0;34m\u001b[0m\u001b[0;34m\u001b[0m\u001b[0m\n",
      "\u001b[0;31mOSError\u001b[0m: cannot identify image file 'Datasets/മ്പ/utf8'"
     ]
    }
   ],
   "source": [
    "print(files)\n",
    "for item in files:\n",
    "    file=os.listdir(Datasets+\"/\"+item)\n",
    "    for image in file:\n",
    "        print(Datasets+\"/\"+item+\"/\"+image)\n",
    "        img = Image.open(Datasets+\"/\"+item+\"/\"+image)\n",
    "        img.show()\n",
    "        time.sleep(0.15)\n",
    "        for proc in psutil.process_iter():\n",
    "            if proc.name() == \"display\":\n",
    "                proc.kill()"
   ]
  },
  {
   "cell_type": "code",
   "execution_count": 3,
   "metadata": {},
   "outputs": [
    {
     "ename": "NameError",
     "evalue": "name 'image' is not defined",
     "output_type": "error",
     "traceback": [
      "\u001b[0;31m---------------------------------------------------------------------------\u001b[0m",
      "\u001b[0;31mNameError\u001b[0m                                 Traceback (most recent call last)",
      "\u001b[0;32m<ipython-input-3-20157a2d1957>\u001b[0m in \u001b[0;36m<module>\u001b[0;34m()\u001b[0m\n\u001b[0;32m----> 1\u001b[0;31m \u001b[0mprint\u001b[0m\u001b[0;34m(\u001b[0m\u001b[0mhelp\u001b[0m\u001b[0;34m(\u001b[0m\u001b[0mimage\u001b[0m\u001b[0;34m)\u001b[0m\u001b[0;34m)\u001b[0m\u001b[0;34m\u001b[0m\u001b[0m\n\u001b[0m",
      "\u001b[0;31mNameError\u001b[0m: name 'image' is not defined"
     ]
    }
   ],
   "source": [
    "print(help(image))"
   ]
  },
  {
   "cell_type": "code",
   "execution_count": null,
   "metadata": {},
   "outputs": [],
   "source": []
  }
 ],
 "metadata": {
  "kernelspec": {
   "display_name": "Python 3",
   "language": "python",
   "name": "python3"
  },
  "language_info": {
   "codemirror_mode": {
    "name": "ipython",
    "version": 3
   },
   "file_extension": ".py",
   "mimetype": "text/x-python",
   "name": "python",
   "nbconvert_exporter": "python",
   "pygments_lexer": "ipython3",
   "version": "3.6.5"
  }
 },
 "nbformat": 4,
 "nbformat_minor": 2
}
